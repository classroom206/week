{
 "cells": [
  {
   "cell_type": "markdown",
   "id": "d5bbc9e3",
   "metadata": {},
   "source": [
    "# Model Training\n",
    "\n",
    "1. Holdout\n",
    "2. K-Fold cross validation\n",
    "3. Bootstrap Sampling"
   ]
  },
  {
   "cell_type": "code",
   "execution_count": 1,
   "id": "a845bb65",
   "metadata": {},
   "outputs": [
    {
     "ename": "ModuleNotFoundError",
     "evalue": "No module named 'sklearn'",
     "output_type": "error",
     "traceback": [
      "\u001b[1;31m---------------------------------------------------------------------------\u001b[0m",
      "\u001b[1;31mModuleNotFoundError\u001b[0m                       Traceback (most recent call last)",
      "Cell \u001b[1;32mIn[1], line 32\u001b[0m\n\u001b[0;32m     27\u001b[0m n_times\u001b[38;5;241m=\u001b[39m\u001b[38;5;241m5\u001b[39m\n\u001b[0;32m     30\u001b[0m \u001b[38;5;28;01mfor\u001b[39;00m i \u001b[38;5;129;01min\u001b[39;00m \u001b[38;5;28mrange\u001b[39m(n_times):\n\u001b[1;32m---> 32\u001b[0m     \u001b[38;5;28;01mfrom\u001b[39;00m \u001b[38;5;21;01msklearn\u001b[39;00m\u001b[38;5;21;01m.\u001b[39;00m\u001b[38;5;21;01mmodel_selection\u001b[39;00m \u001b[38;5;28;01mimport\u001b[39;00m train_test_split\n\u001b[0;32m     33\u001b[0m     \u001b[38;5;66;03m#Chaning the seed value for each iteration\u001b[39;00m\n\u001b[0;32m     34\u001b[0m     X_train, X_test, y_train, y_test \u001b[38;5;241m=\u001b[39m train_test_split(X,y, test_size\u001b[38;5;241m=\u001b[39m\u001b[38;5;241m0.2\u001b[39m, random_state\u001b[38;5;241m=\u001b[39m\u001b[38;5;241m101\u001b[39m)\n",
      "\u001b[1;31mModuleNotFoundError\u001b[0m: No module named 'sklearn'"
     ]
    }
   ],
   "source": [
    "import pandas as pd\n",
    "import numpy as np\n",
    "ColumnNames  = ['Hours','Calories','Weight']\n",
    "DataValues = [[1.0,2500,95],\n",
    "             [2.0,2000,85],\n",
    "             [2.5,1900,83],\n",
    "             [3.0,1850,81],\n",
    "             [3.5,1600,80],\n",
    "             [4.0,1500,78],\n",
    "             [5.0,1500,77],\n",
    "             [5.5,1600,80],\n",
    "             [6.0,1700,75],\n",
    "             [6.5,1500,70]]\n",
    "              \n",
    " \n",
    "GymData=pd.DataFrame(data=DataValues,columns=ColumnNames)\n",
    "GymData.head()\n",
    "              \n",
    " \n",
    "TargetVariable  ='Weight'\n",
    "Predictors = ['Hours','Calories']\n",
    "X = GymData[Predictors].values\n",
    "y = GymData[TargetVariable].values\n",
    " \n",
    "    \n",
    "AccuracyValues=[]\n",
    "n_times=5\n",
    " \n",
    "    \n",
    "for i in range(n_times):\n",
    "     \n",
    "    from sklearn.model_selection import train_test_split\n",
    "   \n",
    "    X_train, X_test, y_train, y_test = train_test_split(X,y, test_size=0.2, random_state=101)\n",
    "    \n",
    "    \n",
    "    \n",
    "    from sklearn import tree\n",
    "     \n",
    "    RegModel = tree.DecisionTreeRegressor(max_depth=3,criterion='squared_error')\n",
    "    \n",
    "     \n",
    "    DTree  = RegModel.fit(X_train,y_train)\n",
    "    prediction=DTree.predict(X_test)\n",
    "    \n",
    "     \n",
    "    Accuracy  = 100-(np.mean(np.abs((y_test - prediction)/y_test))*100)\n",
    "    \n",
    "     \n",
    "    AccuracyValues.append(np.round(Accuracy))\n",
    "    \n",
    " \n",
    "print(AccuracyValues)\n",
    "\n",
    " \n",
    "print('Final average accuracy',np.mean(AccuracyValues))\n"
   ]
  },
  {
   "cell_type": "code",
   "execution_count": 2,
   "id": "d7b6d7fd",
   "metadata": {},
   "outputs": [
    {
     "ename": "ModuleNotFoundError",
     "evalue": "No module named 'sklearn'",
     "output_type": "error",
     "traceback": [
      "\u001b[1;31m---------------------------------------------------------------------------\u001b[0m",
      "\u001b[1;31mModuleNotFoundError\u001b[0m                       Traceback (most recent call last)",
      "Cell \u001b[1;32mIn[2], line 7\u001b[0m\n\u001b[0;32m      3\u001b[0m     \u001b[38;5;66;03m#print ('#'*70,'Accuracy:',100-MAPE)\u001b[39;00m\n\u001b[0;32m      4\u001b[0m     \u001b[38;5;28;01mreturn\u001b[39;00m (\u001b[38;5;241m100\u001b[39m\u001b[38;5;241m-\u001b[39mMAPE)\n\u001b[1;32m----> 7\u001b[0m \u001b[38;5;28;01mfrom\u001b[39;00m \u001b[38;5;21;01msklearn\u001b[39;00m\u001b[38;5;21;01m.\u001b[39;00m\u001b[38;5;21;01mmetrics\u001b[39;00m \u001b[38;5;28;01mimport\u001b[39;00m make_scorer\n\u001b[0;32m      8\u001b[0m custom_Scoring \u001b[38;5;241m=\u001b[39m make_scorer(Accuracy_Score,greater_is_better\u001b[38;5;241m=\u001b[39m\u001b[38;5;28;01mTrue\u001b[39;00m)\n\u001b[0;32m     11\u001b[0m \u001b[38;5;28;01mfrom\u001b[39;00m \u001b[38;5;21;01msklearn\u001b[39;00m\u001b[38;5;21;01m.\u001b[39;00m\u001b[38;5;21;01mmodel_selection\u001b[39;00m \u001b[38;5;28;01mimport\u001b[39;00m cross_val_score\n",
      "\u001b[1;31mModuleNotFoundError\u001b[0m: No module named 'sklearn'"
     ]
    }
   ],
   "source": [
    " \n",
    "def Accuracy_Score(orig,pred):\n",
    "    MAPE=np.mean(100*(np.abs(orig-pred)/orig))\n",
    "    #print ('#'*70,'Accuracy:',100-MAPE)\n",
    "    return (100-MAPE)\n",
    "\n",
    " \n",
    "from sklearn.metrics import make_scorer\n",
    "custom_Scoring = make_scorer(Accuracy_Score,greater_is_better=True)\n",
    "\n",
    " \n",
    "from sklearn.model_selection import cross_val_score\n",
    "\n",
    " \n",
    "from sklearn import tree\n",
    " \n",
    "RegModel = tree.DecisionTreeRegressor(max_depth=3,criterion='squared_error')\n",
    "\n",
    " \n",
    "Accuracy_Values=cross_val_score(RegModel,X,y,cv=10,scoring=custom_Scoring)\n",
    "print('\\nAccuracy values for 10-fold Cross Validation : \\n',Accuracy_Values)\n",
    "print('\\nFinal Average Accuracy of the model : ',round(Accuracy_Values.mean(),2))\n"
   ]
  },
  {
   "cell_type": "code",
   "execution_count": 7,
   "id": "c1e5edae",
   "metadata": {},
   "outputs": [
    {
     "name": "stdout",
     "output_type": "stream",
     "text": [
      "94.99356248523506\n"
     ]
    }
   ],
   "source": [
    " \n",
    "from sklearn.model_selection import train_test_split\n",
    "     \n",
    "X_train, X_test, y_train, y_test = train_test_split(X,y,test_size=0.5,random_state=0)\n",
    "\n",
    " \n",
    "from sklearn import tree\n",
    "  \n",
    "RegModel = tree.DecisionTreeRegressor(max_depth=3,criterion='squared_error')\n",
    "\n",
    " \n",
    "DTree=RegModel.fit(X_train,y_train)\n",
    "prediction=DTree.predict(X_test)\n",
    "\n",
    " \n",
    "Accuracy=100-(np.mean(np.abs((y_test-prediction)/y_test))*100)\n",
    "print(Accuracy)"
   ]
  }
 ],
 "metadata": {
  "kernelspec": {
   "display_name": "Python 3 (ipykernel)",
   "language": "python",
   "name": "python3"
  },
  "language_info": {
   "codemirror_mode": {
    "name": "ipython",
    "version": 3
   },
   "file_extension": ".py",
   "mimetype": "text/x-python",
   "name": "python",
   "nbconvert_exporter": "python",
   "pygments_lexer": "ipython3",
   "version": "3.11.3"
  }
 },
 "nbformat": 4,
 "nbformat_minor": 5
}
